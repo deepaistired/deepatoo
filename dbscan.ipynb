{
  "nbformat": 4,
  "nbformat_minor": 0,
  "metadata": {
    "colab": {
      "provenance": []
    },
    "kernelspec": {
      "name": "python3",
      "display_name": "Python 3"
    },
    "language_info": {
      "name": "python"
    }
  },
  "cells": [
    {
      "cell_type": "code",
      "execution_count": null,
      "metadata": {
        "id": "fS3os6v4z73q"
      },
      "outputs": [],
      "source": []
    },
    {
      "cell_type": "code",
      "source": [],
      "metadata": {
        "id": "-tjEJbcJ4mj_"
      },
      "execution_count": null,
      "outputs": []
    },
    {
      "cell_type": "code",
      "source": [],
      "metadata": {
        "id": "A746Dkn24mrJ"
      },
      "execution_count": null,
      "outputs": []
    },
    {
      "cell_type": "code",
      "source": [],
      "metadata": {
        "id": "XTcB3GXQ4mt4"
      },
      "execution_count": null,
      "outputs": []
    },
    {
      "cell_type": "code",
      "source": [],
      "metadata": {
        "id": "Rj9JyFrP4mwh"
      },
      "execution_count": null,
      "outputs": []
    },
    {
      "cell_type": "code",
      "source": [],
      "metadata": {
        "id": "nOeSGMrY4mzQ"
      },
      "execution_count": null,
      "outputs": []
    },
    {
      "cell_type": "code",
      "source": [],
      "metadata": {
        "id": "MJUqq9CC4m14"
      },
      "execution_count": null,
      "outputs": []
    },
    {
      "cell_type": "code",
      "source": [],
      "metadata": {
        "id": "_e3mYyLs4m4h"
      },
      "execution_count": null,
      "outputs": []
    },
    {
      "cell_type": "code",
      "source": [],
      "metadata": {
        "id": "u0BXDfZu4m64"
      },
      "execution_count": null,
      "outputs": []
    },
    {
      "cell_type": "code",
      "source": [],
      "metadata": {
        "id": "sTsaldAr4m9q"
      },
      "execution_count": null,
      "outputs": []
    },
    {
      "cell_type": "code",
      "source": [],
      "metadata": {
        "id": "b9LWrqj_4nAC"
      },
      "execution_count": null,
      "outputs": []
    },
    {
      "cell_type": "code",
      "source": [],
      "metadata": {
        "id": "uUW1Nysg4nCt"
      },
      "execution_count": null,
      "outputs": []
    },
    {
      "cell_type": "code",
      "source": [],
      "metadata": {
        "id": "MIjT-_R-4nXT"
      },
      "execution_count": null,
      "outputs": []
    },
    {
      "cell_type": "code",
      "source": [],
      "metadata": {
        "id": "0W01VNfk4n_B"
      },
      "execution_count": null,
      "outputs": []
    },
    {
      "cell_type": "code",
      "source": [],
      "metadata": {
        "id": "wzT8XLtw4oBh"
      },
      "execution_count": null,
      "outputs": []
    },
    {
      "cell_type": "code",
      "source": [
        "\n",
        "#DBSCAN\n",
        "import numpy as np\n",
        "import pandas as pd\n",
        "\n",
        "# Sample data points\n",
        "data_points = {\n",
        "    'p1': (3, 7),\n",
        "    'p2': (4, 6),\n",
        "    'p3': (5, 5),\n",
        "    'p4': (7, 5),\n",
        "    'p5': (8, 4),\n",
        "    'p6': (5, 1),\n",
        "    'p7': (8, 3),\n",
        "    'p8': (3, 7),\n",
        "    'p9': (3, 5),\n",
        "    'p10': (2, 4),\n",
        "    'p11': (5, 9),\n",
        "}\n",
        "\n",
        "# Create DataFrame\n",
        "df = pd.DataFrame(data_points).T\n",
        "df.columns = ['x', 'y']\n",
        "print(df)\n",
        "\n",
        "# Function to calculate Euclidean distance matrix\n",
        "def euclidean_distance_matrix(data):\n",
        "    distances = np.linalg.norm(data.values[:, np.newaxis] - data.values, axis=2)\n",
        "    return pd.DataFrame(distances, index=data.index, columns=data.index)\n",
        "\n",
        "# Calculate distance matrix\n",
        "distance_matrix = euclidean_distance_matrix(df)\n",
        "print(\"\\nDistance Matrix:\\n\", distance_matrix)\n",
        "\n",
        "# DBSCAN parameters\n",
        "epsilon = 1.9\n",
        "min_points = 4\n",
        "\n",
        "# Find neighborhoods within epsilon distance\n",
        "neighborhoods = {}\n",
        "for point in df.index:\n",
        "    neighbors = distance_matrix[point][distance_matrix[point] < epsilon].index.tolist()\n",
        "    if len(neighbors) > 1:\n",
        "        neighborhoods[point] = neighbors\n",
        "\n",
        "print(\"\\nNearest Data Points:\")\n",
        "for point, neighbors in neighborhoods.items():\n",
        "    print(f\"{point}: {', '.join(neighbors)}\")\n",
        "\n",
        "# Initialize classification dictionary\n",
        "classification = {}\n",
        "\n",
        "# Classify each point as Core, Border, or Noise\n",
        "for point in df.index:\n",
        "    num_neighbors = len(neighborhoods.get(point, []))\n",
        "    if num_neighbors >= min_points:\n",
        "        classification[point] = 'Core Point'\n",
        "    elif any(neighbor in classification and classification[neighbor] == 'Core Point' for neighbor in neighborhoods.get(point, [])):\n",
        "        classification[point] = 'Border Point'\n",
        "    else:\n",
        "        classification[point] = 'Noise Point'\n",
        "\n",
        "# Print classification results\n",
        "print(\"\\nClassification of Points:\")\n",
        "for point, class_type in classification.items():\n",
        "    print(f\"{point}: {class_type}\")\n"
      ],
      "metadata": {
        "colab": {
          "base_uri": "https://localhost:8080/"
        },
        "id": "Vd4Z9hFS4oEB",
        "outputId": "17dd1627-7166-4ae9-edfa-8f692c3631b7"
      },
      "execution_count": 1,
      "outputs": [
        {
          "output_type": "stream",
          "name": "stdout",
          "text": [
            "     x  y\n",
            "p1   3  7\n",
            "p2   4  6\n",
            "p3   5  5\n",
            "p4   7  5\n",
            "p5   8  4\n",
            "p6   5  1\n",
            "p7   8  3\n",
            "p8   3  7\n",
            "p9   3  5\n",
            "p10  2  4\n",
            "p11  5  9\n",
            "\n",
            "Distance Matrix:\n",
            "            p1        p2        p3        p4        p5        p6        p7  \\\n",
            "p1   0.000000  1.414214  2.828427  4.472136  5.830952  6.324555  6.403124   \n",
            "p2   1.414214  0.000000  1.414214  3.162278  4.472136  5.099020  5.000000   \n",
            "p3   2.828427  1.414214  0.000000  2.000000  3.162278  4.000000  3.605551   \n",
            "p4   4.472136  3.162278  2.000000  0.000000  1.414214  4.472136  2.236068   \n",
            "p5   5.830952  4.472136  3.162278  1.414214  0.000000  4.242641  1.000000   \n",
            "p6   6.324555  5.099020  4.000000  4.472136  4.242641  0.000000  3.605551   \n",
            "p7   6.403124  5.000000  3.605551  2.236068  1.000000  3.605551  0.000000   \n",
            "p8   0.000000  1.414214  2.828427  4.472136  5.830952  6.324555  6.403124   \n",
            "p9   2.000000  1.414214  2.000000  4.000000  5.099020  4.472136  5.385165   \n",
            "p10  3.162278  2.828427  3.162278  5.099020  6.000000  4.242641  6.082763   \n",
            "p11  2.828427  3.162278  4.000000  4.472136  5.830952  8.000000  6.708204   \n",
            "\n",
            "           p8        p9       p10       p11  \n",
            "p1   0.000000  2.000000  3.162278  2.828427  \n",
            "p2   1.414214  1.414214  2.828427  3.162278  \n",
            "p3   2.828427  2.000000  3.162278  4.000000  \n",
            "p4   4.472136  4.000000  5.099020  4.472136  \n",
            "p5   5.830952  5.099020  6.000000  5.830952  \n",
            "p6   6.324555  4.472136  4.242641  8.000000  \n",
            "p7   6.403124  5.385165  6.082763  6.708204  \n",
            "p8   0.000000  2.000000  3.162278  2.828427  \n",
            "p9   2.000000  0.000000  1.414214  4.472136  \n",
            "p10  3.162278  1.414214  0.000000  5.830952  \n",
            "p11  2.828427  4.472136  5.830952  0.000000  \n",
            "\n",
            "Nearest Data Points:\n",
            "p1: p1, p2, p8\n",
            "p2: p1, p2, p3, p8, p9\n",
            "p3: p2, p3\n",
            "p4: p4, p5\n",
            "p5: p4, p5, p7\n",
            "p7: p5, p7\n",
            "p8: p1, p2, p8\n",
            "p9: p2, p9, p10\n",
            "p10: p9, p10\n",
            "\n",
            "Classification of Points:\n",
            "p1: Noise Point\n",
            "p2: Core Point\n",
            "p3: Border Point\n",
            "p4: Noise Point\n",
            "p5: Noise Point\n",
            "p6: Noise Point\n",
            "p7: Noise Point\n",
            "p8: Border Point\n",
            "p9: Border Point\n",
            "p10: Noise Point\n",
            "p11: Noise Point\n"
          ]
        }
      ]
    }
  ]
}