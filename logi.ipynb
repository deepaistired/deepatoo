{
  "nbformat": 4,
  "nbformat_minor": 0,
  "metadata": {
    "colab": {
      "provenance": []
    },
    "kernelspec": {
      "name": "python3",
      "display_name": "Python 3"
    },
    "language_info": {
      "name": "python"
    }
  },
  "cells": [
    {
      "cell_type": "code",
      "execution_count": null,
      "metadata": {
        "id": "4L48_Ptr9pp-"
      },
      "outputs": [],
      "source": []
    },
    {
      "cell_type": "code",
      "source": [],
      "metadata": {
        "id": "SR6Fr4pA9sHr"
      },
      "execution_count": null,
      "outputs": []
    },
    {
      "cell_type": "code",
      "source": [],
      "metadata": {
        "id": "-fStiOzF9sK0"
      },
      "execution_count": null,
      "outputs": []
    },
    {
      "cell_type": "code",
      "source": [],
      "metadata": {
        "id": "QuxZXyQ99sN1"
      },
      "execution_count": null,
      "outputs": []
    },
    {
      "cell_type": "code",
      "source": [],
      "metadata": {
        "id": "ypDxPG4y9sQk"
      },
      "execution_count": null,
      "outputs": []
    },
    {
      "cell_type": "code",
      "source": [],
      "metadata": {
        "id": "HzkWTIBF9sTN"
      },
      "execution_count": null,
      "outputs": []
    },
    {
      "cell_type": "code",
      "source": [],
      "metadata": {
        "id": "6lha4V_x9sVy"
      },
      "execution_count": null,
      "outputs": []
    },
    {
      "cell_type": "code",
      "source": [],
      "metadata": {
        "id": "kTqcKmMj9sYe"
      },
      "execution_count": null,
      "outputs": []
    },
    {
      "cell_type": "code",
      "source": [],
      "metadata": {
        "id": "29bmb2pQ9sb0"
      },
      "execution_count": null,
      "outputs": []
    },
    {
      "cell_type": "code",
      "source": [],
      "metadata": {
        "id": "Wu7btGwz9sez"
      },
      "execution_count": null,
      "outputs": []
    },
    {
      "cell_type": "code",
      "source": [],
      "metadata": {
        "id": "-Zi_PNgH9sh1"
      },
      "execution_count": null,
      "outputs": []
    },
    {
      "cell_type": "code",
      "source": [],
      "metadata": {
        "id": "Ttju1xhM9skq"
      },
      "execution_count": null,
      "outputs": []
    },
    {
      "cell_type": "code",
      "source": [],
      "metadata": {
        "id": "F2kSRM-S9snc"
      },
      "execution_count": null,
      "outputs": []
    },
    {
      "cell_type": "code",
      "source": [],
      "metadata": {
        "id": "8-H5yh6P9sqT"
      },
      "execution_count": null,
      "outputs": []
    },
    {
      "cell_type": "code",
      "source": [],
      "metadata": {
        "id": "p_VUjaTc9ss-"
      },
      "execution_count": null,
      "outputs": []
    },
    {
      "cell_type": "code",
      "source": [],
      "metadata": {
        "id": "ExQuuAb19swA"
      },
      "execution_count": null,
      "outputs": []
    },
    {
      "cell_type": "code",
      "source": [
        "#Logistic regression\n",
        "\n",
        "import pandas as pd\n",
        "import numpy as np\n",
        "\n",
        "\n",
        "data = pd.DataFrame({\n",
        "    'Experience': [1, 2, 3, 4, 5, 6, 7, 8, 9, 10],\n",
        "    'TestScore': [45, 50, 55, 60, 65, 70, 75, 80, 85, 90],\n",
        "    'Hired': [0, 0, 0, 0, 1, 1, 1, 1, 1, 1]\n",
        "})\n",
        "print(data)\n",
        "\n",
        "\n",
        "class LogisticRegression:\n",
        "  def __init__ (self,lr=0.01, n_iters=1000):\n",
        "   self.lr=lr\n",
        "   self.n_iters= n_iters\n",
        "   self.weights=None\n",
        "   self.bias=None\n",
        "\n",
        "  def sigmoid(self,z):\n",
        "    return 1/(1+np.exp(-z))\n",
        "\n",
        "  def fit(self,X,y):\n",
        "    n_samples,n_features=X.shape\n",
        "    self.weights=np.zeros(n_features)\n",
        "    self.bias=0\n",
        "\n",
        "\n",
        "\n",
        "    for _ in range(self.n_iters):\n",
        "\n",
        "\n",
        "      linear_model=np.dot(X,self.weights)+self.bias\n",
        "\n",
        "      y_pred = self.sigmoid(linear_model)\n",
        "\n",
        "      dw=(1/n_samples)*np.dot(X.T,(y_pred-y))\n",
        "      db=(1/n_samples)*np.sum(y_pred-y)\n",
        "\n",
        "      self.weights-=self.lr*dw\n",
        "      self.bias-=self.lr*db\n",
        "\n",
        "  def predict(self, X):\n",
        "    linear_model = np.dot(X, self.weights) + self.bias\n",
        "    y_predicted = self.sigmoid(linear_model)\n",
        "    return [1 if i > 0.5 else 0 for i in y_predicted]\n",
        "\n",
        "X = data[['Experience']].values\n",
        "y = data['Hired'].values\n",
        "\n",
        "X = (X - np.mean(X, axis=0)) / np.std(X, axis=0)\n",
        "\n",
        "log_reg = LogisticRegression(lr=0.1, n_iters=1000)\n",
        "log_reg.fit(X, y)\n",
        "\n",
        "\n",
        "data['Predicted'] = log_reg.predict(X)\n",
        "print(data)\n",
        "\n",
        "\n"
      ],
      "metadata": {
        "id": "z5icOExj9syk"
      },
      "execution_count": null,
      "outputs": []
    }
  ]
}