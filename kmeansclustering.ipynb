{
  "nbformat": 4,
  "nbformat_minor": 0,
  "metadata": {
    "colab": {
      "provenance": []
    },
    "kernelspec": {
      "name": "python3",
      "display_name": "Python 3"
    },
    "language_info": {
      "name": "python"
    }
  },
  "cells": [
    {
      "cell_type": "code",
      "execution_count": null,
      "metadata": {
        "colab": {
          "base_uri": "https://localhost:8080/"
        },
        "id": "eSpWgnN6-pwo",
        "outputId": "9f4d3d1d-6e9d-4f60-9ecb-25d877dfcd87"
      },
      "outputs": [
        {
          "output_type": "stream",
          "name": "stdout",
          "text": [
            "Final Clusters:\n",
            "Cluster 1: [2, 3, 4, 10, 11, 12]\n",
            "Cluster 2: [20, 25, 30]\n",
            "Final mean 1: 7.0\n",
            "Final mean 1: 25.0\n"
          ]
        }
      ],
      "source": [
        "#kemansclustering\n",
        "\n",
        "import numpy as np\n",
        "data=np.array([2,3,4,10,11,12,20,25,30])\n",
        "m1=4\n",
        "m2=12\n",
        "def k_means_clustering (data,m1,m2,max_iterations=100):\n",
        "  for _ in range (max_iterations):\n",
        "    clusters = {1:[],2: []}\n",
        "    for point in data :\n",
        "      distance_to_m1 = abs(point - m1)\n",
        "      distance_to_m2 = abs(point - m2)\n",
        "      if distance_to_m1 > distance_to_m2 :\n",
        "        clusters[1].append(point)\n",
        "      else:\n",
        "        clusters[2].append(point)\n",
        "    new_m1 = np.mean(clusters[1]) if clusters[1] else m1\n",
        "    new_m2 = np.mean(clusters[2]) if clusters[2] else m2\n",
        "    if new_m1 == m1 and new_m2 == m2 :\n",
        "      break\n",
        "    m1 , m2 = new_m1 , new_m2\n",
        "  return clusters , m1 , m2\n",
        "clusters , final_m1, final_m2 = k_means_clustering(data , m1 , m2)\n",
        "print(\"Final Clusters:\")\n",
        "print(\"Cluster 1:\", clusters[1])\n",
        "print(\"Cluster 2:\", clusters[2])\n",
        "print(\"Final mean 1:\", final_m1)\n",
        "print(\"Final mean 1:\", final_m2)\n",
        "\n",
        "\n"
      ]
    }
  ]
}